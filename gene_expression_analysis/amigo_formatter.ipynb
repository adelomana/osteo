{
 "cells": [
  {
   "cell_type": "code",
   "execution_count": 1,
   "id": "f81303b8",
   "metadata": {},
   "outputs": [],
   "source": [
    "import json, os, ensembl_rest"
   ]
  },
  {
   "cell_type": "code",
   "execution_count": 2,
   "id": "666401e3",
   "metadata": {},
   "outputs": [
    {
     "data": {
      "text/plain": [
       "'BRCA2'"
      ]
     },
     "execution_count": 2,
     "metadata": {},
     "output_type": "execute_result"
    }
   ],
   "source": [
    "ensembl_rest.lookup(id='ENSG00000139618')['display_name']"
   ]
  },
  {
   "cell_type": "code",
   "execution_count": 3,
   "id": "abaf2461",
   "metadata": {},
   "outputs": [],
   "source": [
    "amigo_dir = '/Users/adrian/gd15/hi/research/osteo/results/enrichment_volcano/json/'"
   ]
  },
  {
   "cell_type": "code",
   "execution_count": 4,
   "id": "12b869e9",
   "metadata": {},
   "outputs": [
    {
     "name": "stdout",
     "output_type": "stream",
     "text": [
      "['other_down.json', 'other_up.json', 'metabolic_up.json', 'tf_up.json', 'tf_down.json', 'metabolic_down.json']\n"
     ]
    }
   ],
   "source": [
    "files = os.listdir(amigo_dir)\n",
    "json_files = [element for element in files if 'json' in element and element[0] != '.']\n",
    "print(json_files)"
   ]
  },
  {
   "cell_type": "markdown",
   "id": "1b65a369",
   "metadata": {},
   "source": [
    "# analysis"
   ]
  },
  {
   "cell_type": "code",
   "execution_count": 5,
   "id": "b82b1e4f",
   "metadata": {},
   "outputs": [],
   "source": [
    "def analysis(json_file):\n",
    "    \n",
    "    pattern = json_file.split('.')[0]\n",
    "    amigo_file = amigo_dir+'{}.json'.format(pattern)\n",
    "    output_file = amigo_dir+'{}_formatted.tsv'.format(pattern)\n",
    "    \n",
    "    g = open(output_file,'w')\n",
    "    g.write('Level\\tTerm\\tBackground rank\\tFound rank\\tExpected rank\\tFold enrichment\\tSign\\tP-value\\tENSEMBL IDs\\tGene symbols\\n')\n",
    "\n",
    "    with open(amigo_file,'r') as f:\n",
    "        data = json.load(f)\n",
    "        for group in data['overrepresentation']['group']:\n",
    "            if type(group) == dict:\n",
    "                if type(group['result']) == list:\n",
    "                    pathways=group['result']\n",
    "                elif type(group['result']) == dict:\n",
    "                    pathways=[group['result']]\n",
    "                else:\n",
    "                    print('ERROR: value not considered for variable group[result].')\n",
    "                \n",
    "                for element in pathways:\n",
    "                        \n",
    "                    sign=element['input_list']['plus_minus']\n",
    "                    if sign == '+':\n",
    "                        level=element['term']['level']\n",
    "                        term=element['term']['label']\n",
    "                        background_rank=element['number_in_reference']\n",
    "                        found_rank=element['input_list']['number_in_list']\n",
    "                        expected_rank=element['input_list']['expected']\n",
    "                        fold_enrichment=element['input_list']['fold_enrichment']\n",
    "                        pvalue=element['input_list']['pValue']\n",
    "\n",
    "                        working_variable=element['input_list']['mapped_id_list']['mapped_id']\n",
    "                        if type(working_variable) == list:\n",
    "                            ensemblIDs = working_variable\n",
    "                            gene_symbols = [ensembl_rest.lookup(id=ID)['display_name'] for ID in ensemblIDs]\n",
    "                        \n",
    "                        else:\n",
    "                            print('ERROR: value not considered for variable working_variable.')\n",
    "\n",
    "                        ensembl_string=', '.join(ensemblIDs)\n",
    "                        gene_symbols_string=', '.join(gene_symbols)\n",
    "\n",
    "                        g.write('{}\\t'.format(level))\n",
    "                        g.write('{}\\t'.format(term))\n",
    "                        g.write('{}\\t'.format(background_rank))\n",
    "                        g.write('{}\\t'.format(found_rank))\n",
    "                        g.write('{}\\t'.format(expected_rank))\n",
    "                        g.write('{}\\t'.format(fold_enrichment))\n",
    "                        g.write('{}\\t'.format(sign))\n",
    "                        g.write('{}\\t'.format(pvalue))\n",
    "                        g.write('{}\\t'.format(ensembl_string))\n",
    "                        g.write('{}\\t'.format(gene_symbols_string))\n",
    "\n",
    "                        g.write('\\n')\n",
    "                     \n",
    "    g.close()\n",
    "    \n",
    "    return None"
   ]
  },
  {
   "cell_type": "code",
   "execution_count": 6,
   "id": "e1345f9a",
   "metadata": {},
   "outputs": [
    {
     "name": "stdout",
     "output_type": "stream",
     "text": [
      "working on other_down.json...\n",
      "working on other_up.json...\n",
      "working on metabolic_up.json...\n",
      "working on tf_up.json...\n",
      "working on tf_down.json...\n",
      "working on metabolic_down.json...\n",
      "CPU times: user 13.2 s, sys: 1.36 s, total: 14.5 s\n",
      "Wall time: 3min 59s\n"
     ]
    }
   ],
   "source": [
    "%%time\n",
    "\n",
    "for element in json_files:\n",
    "    print('working on {}...'.format(element))\n",
    "    analysis(element)"
   ]
  }
 ],
 "metadata": {
  "kernelspec": {
   "display_name": "Python 3",
   "language": "python",
   "name": "python3"
  },
  "language_info": {
   "codemirror_mode": {
    "name": "ipython",
    "version": 3
   },
   "file_extension": ".py",
   "mimetype": "text/x-python",
   "name": "python",
   "nbconvert_exporter": "python",
   "pygments_lexer": "ipython3",
   "version": "3.8.10"
  }
 },
 "nbformat": 4,
 "nbformat_minor": 5
}
