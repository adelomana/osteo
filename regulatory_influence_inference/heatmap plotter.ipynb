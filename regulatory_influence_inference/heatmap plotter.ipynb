{
 "cells": [
  {
   "cell_type": "code",
   "execution_count": 1,
   "id": "9b6f3561",
   "metadata": {},
   "outputs": [],
   "source": [
    "import pandas, seaborn"
   ]
  },
  {
   "cell_type": "code",
   "execution_count": 2,
   "id": "10a62ad5",
   "metadata": {},
   "outputs": [],
   "source": [
    "import matplotlib, matplotlib.pyplot\n",
    "matplotlib.rcParams.update({'font.size':20, 'font.family':'sans-serif', 'xtick.labelsize':20, 'ytick.labelsize':20, 'figure.figsize':(8, 4), 'axes.labelsize':20})"
   ]
  },
  {
   "cell_type": "markdown",
   "id": "0df68533",
   "metadata": {},
   "source": [
    "# 0. user-defined variables"
   ]
  },
  {
   "cell_type": "code",
   "execution_count": 3,
   "id": "3d3a9450",
   "metadata": {},
   "outputs": [],
   "source": [
    "#! drangajokull\n",
    "home_dir = '/home/adrian/'\n",
    "\n",
    "#! necio5\n",
    "#home_dir = '/Users/adrian/'"
   ]
  },
  {
   "cell_type": "code",
   "execution_count": 4,
   "id": "92fbb16d",
   "metadata": {},
   "outputs": [],
   "source": [
    "up_regulons = home_dir + 'gd15/hi/research/osteo/results/regulons/' + 'regulons_up.csv'\n",
    "down_regulons = home_dir + 'gd15/hi/research/osteo/results/regulons/' + 'regulons_down.csv'\n",
    "\n",
    "results_folder = home_dir + 'gd15/hi/research/osteo/results/regulons/'\n",
    "\n",
    "days = [3, 6, 9, 16, 28]"
   ]
  },
  {
   "cell_type": "markdown",
   "id": "15918ca2",
   "metadata": {},
   "source": [
    "# 1. read information"
   ]
  },
  {
   "cell_type": "code",
   "execution_count": 5,
   "id": "2c684452",
   "metadata": {},
   "outputs": [
    {
     "name": "stdout",
     "output_type": "stream",
     "text": [
      "(51, 5)\n"
     ]
    },
    {
     "data": {
      "text/html": [
       "<div>\n",
       "<style scoped>\n",
       "    .dataframe tbody tr th:only-of-type {\n",
       "        vertical-align: middle;\n",
       "    }\n",
       "\n",
       "    .dataframe tbody tr th {\n",
       "        vertical-align: top;\n",
       "    }\n",
       "\n",
       "    .dataframe thead th {\n",
       "        text-align: right;\n",
       "    }\n",
       "</style>\n",
       "<table border=\"1\" class=\"dataframe\">\n",
       "  <thead>\n",
       "    <tr style=\"text-align: right;\">\n",
       "      <th></th>\n",
       "      <th>Activity on Day 3</th>\n",
       "      <th>Activity on Day 6</th>\n",
       "      <th>Activity on Day 9</th>\n",
       "      <th>Activity on Day 16</th>\n",
       "      <th>Activity on Day 28</th>\n",
       "    </tr>\n",
       "    <tr>\n",
       "      <th>Regulon ID</th>\n",
       "      <th></th>\n",
       "      <th></th>\n",
       "      <th></th>\n",
       "      <th></th>\n",
       "      <th></th>\n",
       "    </tr>\n",
       "  </thead>\n",
       "  <tbody>\n",
       "    <tr>\n",
       "      <th>PRRX2.31</th>\n",
       "      <td>-1.648</td>\n",
       "      <td>-0.292</td>\n",
       "      <td>0.815</td>\n",
       "      <td>0.325</td>\n",
       "      <td>0.799</td>\n",
       "    </tr>\n",
       "    <tr>\n",
       "      <th>JDP2.13</th>\n",
       "      <td>-1.423</td>\n",
       "      <td>-0.586</td>\n",
       "      <td>0.409</td>\n",
       "      <td>0.274</td>\n",
       "      <td>1.327</td>\n",
       "    </tr>\n",
       "    <tr>\n",
       "      <th>RORB.2</th>\n",
       "      <td>-1.204</td>\n",
       "      <td>-0.934</td>\n",
       "      <td>-0.068</td>\n",
       "      <td>0.802</td>\n",
       "      <td>1.404</td>\n",
       "    </tr>\n",
       "    <tr>\n",
       "      <th>NFATC4.6</th>\n",
       "      <td>-1.375</td>\n",
       "      <td>0.791</td>\n",
       "      <td>1.258</td>\n",
       "      <td>-0.088</td>\n",
       "      <td>-0.585</td>\n",
       "    </tr>\n",
       "    <tr>\n",
       "      <th>POU6F1.3</th>\n",
       "      <td>-1.272</td>\n",
       "      <td>0.603</td>\n",
       "      <td>1.527</td>\n",
       "      <td>-0.378</td>\n",
       "      <td>-0.481</td>\n",
       "    </tr>\n",
       "  </tbody>\n",
       "</table>\n",
       "</div>"
      ],
      "text/plain": [
       "            Activity on Day 3  Activity on Day 6  Activity on Day 9  \\\n",
       "Regulon ID                                                            \n",
       "PRRX2.31               -1.648             -0.292              0.815   \n",
       "JDP2.13                -1.423             -0.586              0.409   \n",
       "RORB.2                 -1.204             -0.934             -0.068   \n",
       "NFATC4.6               -1.375              0.791              1.258   \n",
       "POU6F1.3               -1.272              0.603              1.527   \n",
       "\n",
       "            Activity on Day 16  Activity on Day 28  \n",
       "Regulon ID                                          \n",
       "PRRX2.31                 0.325               0.799  \n",
       "JDP2.13                  0.274               1.327  \n",
       "RORB.2                   0.802               1.404  \n",
       "NFATC4.6                -0.088              -0.585  \n",
       "POU6F1.3                -0.378              -0.481  "
      ]
     },
     "execution_count": 5,
     "metadata": {},
     "output_type": "execute_result"
    }
   ],
   "source": [
    "up = pandas.read_csv(up_regulons, sep='\\t', index_col='Regulon ID', usecols=[0, 6, 7, 8, 9, 10])\n",
    "print(up.shape)\n",
    "up.head()"
   ]
  },
  {
   "cell_type": "code",
   "execution_count": 6,
   "id": "ad006755",
   "metadata": {},
   "outputs": [
    {
     "name": "stdout",
     "output_type": "stream",
     "text": [
      "(60, 5)\n"
     ]
    },
    {
     "data": {
      "text/html": [
       "<div>\n",
       "<style scoped>\n",
       "    .dataframe tbody tr th:only-of-type {\n",
       "        vertical-align: middle;\n",
       "    }\n",
       "\n",
       "    .dataframe tbody tr th {\n",
       "        vertical-align: top;\n",
       "    }\n",
       "\n",
       "    .dataframe thead th {\n",
       "        text-align: right;\n",
       "    }\n",
       "</style>\n",
       "<table border=\"1\" class=\"dataframe\">\n",
       "  <thead>\n",
       "    <tr style=\"text-align: right;\">\n",
       "      <th></th>\n",
       "      <th>Activity on Day 3</th>\n",
       "      <th>Activity on Day 6</th>\n",
       "      <th>Activity on Day 9</th>\n",
       "      <th>Activity on Day 16</th>\n",
       "      <th>Activity on Day 28</th>\n",
       "    </tr>\n",
       "    <tr>\n",
       "      <th>Regulon ID</th>\n",
       "      <th></th>\n",
       "      <th></th>\n",
       "      <th></th>\n",
       "      <th></th>\n",
       "      <th></th>\n",
       "    </tr>\n",
       "  </thead>\n",
       "  <tbody>\n",
       "    <tr>\n",
       "      <th>CXXC1.7</th>\n",
       "      <td>1.722</td>\n",
       "      <td>-0.243</td>\n",
       "      <td>-0.231</td>\n",
       "      <td>0.083</td>\n",
       "      <td>-1.331</td>\n",
       "    </tr>\n",
       "    <tr>\n",
       "      <th>E2F1.30</th>\n",
       "      <td>1.714</td>\n",
       "      <td>0.043</td>\n",
       "      <td>-0.640</td>\n",
       "      <td>0.083</td>\n",
       "      <td>-1.199</td>\n",
       "    </tr>\n",
       "    <tr>\n",
       "      <th>E2F4.49</th>\n",
       "      <td>1.670</td>\n",
       "      <td>0.055</td>\n",
       "      <td>-0.708</td>\n",
       "      <td>0.186</td>\n",
       "      <td>-1.202</td>\n",
       "    </tr>\n",
       "    <tr>\n",
       "      <th>E2F7.2</th>\n",
       "      <td>1.803</td>\n",
       "      <td>0.011</td>\n",
       "      <td>-0.291</td>\n",
       "      <td>-0.291</td>\n",
       "      <td>-1.231</td>\n",
       "    </tr>\n",
       "    <tr>\n",
       "      <th>E2F8.123</th>\n",
       "      <td>1.704</td>\n",
       "      <td>0.044</td>\n",
       "      <td>-0.641</td>\n",
       "      <td>0.091</td>\n",
       "      <td>-1.198</td>\n",
       "    </tr>\n",
       "  </tbody>\n",
       "</table>\n",
       "</div>"
      ],
      "text/plain": [
       "            Activity on Day 3  Activity on Day 6  Activity on Day 9  \\\n",
       "Regulon ID                                                            \n",
       "CXXC1.7                 1.722             -0.243             -0.231   \n",
       "E2F1.30                 1.714              0.043             -0.640   \n",
       "E2F4.49                 1.670              0.055             -0.708   \n",
       "E2F7.2                  1.803              0.011             -0.291   \n",
       "E2F8.123                1.704              0.044             -0.641   \n",
       "\n",
       "            Activity on Day 16  Activity on Day 28  \n",
       "Regulon ID                                          \n",
       "CXXC1.7                  0.083              -1.331  \n",
       "E2F1.30                  0.083              -1.199  \n",
       "E2F4.49                  0.186              -1.202  \n",
       "E2F7.2                  -0.291              -1.231  \n",
       "E2F8.123                 0.091              -1.198  "
      ]
     },
     "execution_count": 6,
     "metadata": {},
     "output_type": "execute_result"
    }
   ],
   "source": [
    "down = pandas.read_csv(down_regulons, sep='\\t', index_col='Regulon ID', usecols=[0, 6, 7, 8, 9, 10])\n",
    "print(down.shape)\n",
    "down.head()"
   ]
  },
  {
   "cell_type": "markdown",
   "id": "685b60e5",
   "metadata": {},
   "source": [
    "# 2. format data"
   ]
  },
  {
   "cell_type": "code",
   "execution_count": 7,
   "id": "d5bf0de5",
   "metadata": {},
   "outputs": [
    {
     "name": "stdout",
     "output_type": "stream",
     "text": [
      "(111, 5)\n"
     ]
    },
    {
     "data": {
      "text/html": [
       "<div>\n",
       "<style scoped>\n",
       "    .dataframe tbody tr th:only-of-type {\n",
       "        vertical-align: middle;\n",
       "    }\n",
       "\n",
       "    .dataframe tbody tr th {\n",
       "        vertical-align: top;\n",
       "    }\n",
       "\n",
       "    .dataframe thead th {\n",
       "        text-align: right;\n",
       "    }\n",
       "</style>\n",
       "<table border=\"1\" class=\"dataframe\">\n",
       "  <thead>\n",
       "    <tr style=\"text-align: right;\">\n",
       "      <th></th>\n",
       "      <th>Activity on Day 3</th>\n",
       "      <th>Activity on Day 6</th>\n",
       "      <th>Activity on Day 9</th>\n",
       "      <th>Activity on Day 16</th>\n",
       "      <th>Activity on Day 28</th>\n",
       "    </tr>\n",
       "    <tr>\n",
       "      <th>Regulon ID</th>\n",
       "      <th></th>\n",
       "      <th></th>\n",
       "      <th></th>\n",
       "      <th></th>\n",
       "      <th></th>\n",
       "    </tr>\n",
       "  </thead>\n",
       "  <tbody>\n",
       "    <tr>\n",
       "      <th>PRRX2.31</th>\n",
       "      <td>-1.648</td>\n",
       "      <td>-0.292</td>\n",
       "      <td>0.815</td>\n",
       "      <td>0.325</td>\n",
       "      <td>0.799</td>\n",
       "    </tr>\n",
       "    <tr>\n",
       "      <th>JDP2.13</th>\n",
       "      <td>-1.423</td>\n",
       "      <td>-0.586</td>\n",
       "      <td>0.409</td>\n",
       "      <td>0.274</td>\n",
       "      <td>1.327</td>\n",
       "    </tr>\n",
       "    <tr>\n",
       "      <th>RORB.2</th>\n",
       "      <td>-1.204</td>\n",
       "      <td>-0.934</td>\n",
       "      <td>-0.068</td>\n",
       "      <td>0.802</td>\n",
       "      <td>1.404</td>\n",
       "    </tr>\n",
       "    <tr>\n",
       "      <th>NFATC4.6</th>\n",
       "      <td>-1.375</td>\n",
       "      <td>0.791</td>\n",
       "      <td>1.258</td>\n",
       "      <td>-0.088</td>\n",
       "      <td>-0.585</td>\n",
       "    </tr>\n",
       "    <tr>\n",
       "      <th>POU6F1.3</th>\n",
       "      <td>-1.272</td>\n",
       "      <td>0.603</td>\n",
       "      <td>1.527</td>\n",
       "      <td>-0.378</td>\n",
       "      <td>-0.481</td>\n",
       "    </tr>\n",
       "  </tbody>\n",
       "</table>\n",
       "</div>"
      ],
      "text/plain": [
       "            Activity on Day 3  Activity on Day 6  Activity on Day 9  \\\n",
       "Regulon ID                                                            \n",
       "PRRX2.31               -1.648             -0.292              0.815   \n",
       "JDP2.13                -1.423             -0.586              0.409   \n",
       "RORB.2                 -1.204             -0.934             -0.068   \n",
       "NFATC4.6               -1.375              0.791              1.258   \n",
       "POU6F1.3               -1.272              0.603              1.527   \n",
       "\n",
       "            Activity on Day 16  Activity on Day 28  \n",
       "Regulon ID                                          \n",
       "PRRX2.31                 0.325               0.799  \n",
       "JDP2.13                  0.274               1.327  \n",
       "RORB.2                   0.802               1.404  \n",
       "NFATC4.6                -0.088              -0.585  \n",
       "POU6F1.3                -0.378              -0.481  "
      ]
     },
     "execution_count": 7,
     "metadata": {},
     "output_type": "execute_result"
    }
   ],
   "source": [
    "regulons = pandas.concat([up, down])\n",
    "print(regulons.shape)\n",
    "regulons.head()"
   ]
  },
  {
   "cell_type": "markdown",
   "id": "32b30031",
   "metadata": {},
   "source": [
    "# 3. build heatmap"
   ]
  },
  {
   "cell_type": "code",
   "execution_count": 8,
   "id": "e9fec13b",
   "metadata": {},
   "outputs": [],
   "source": [
    "linkage_method = 'complete'\n",
    "distance_metric = 'cosine'"
   ]
  },
  {
   "cell_type": "code",
   "execution_count": 9,
   "id": "c2ee62fc",
   "metadata": {},
   "outputs": [
    {
     "data": {
      "text/plain": [
       "<Figure size 720x720 with 0 Axes>"
      ]
     },
     "metadata": {},
     "output_type": "display_data"
    }
   ],
   "source": [
    "seaborn.clustermap(regulons, cmap='bwr', vmin=-2, vmax=2, col_cluster=False, method=linkage_method, metric=distance_metric, cbar_kws={'label':'regulon activity'}, yticklabels=2)\n",
    "matplotlib.pyplot.savefig(results_folder + 'regulons.svg')\n",
    "matplotlib.pyplot.clf()"
   ]
  },
  {
   "cell_type": "code",
   "execution_count": null,
   "id": "57ab37a5",
   "metadata": {},
   "outputs": [],
   "source": []
  }
 ],
 "metadata": {
  "kernelspec": {
   "display_name": "Python 3",
   "language": "python",
   "name": "python3"
  },
  "language_info": {
   "codemirror_mode": {
    "name": "ipython",
    "version": 3
   },
   "file_extension": ".py",
   "mimetype": "text/x-python",
   "name": "python",
   "nbconvert_exporter": "python",
   "pygments_lexer": "ipython3",
   "version": "3.7.11"
  }
 },
 "nbformat": 4,
 "nbformat_minor": 5
}
