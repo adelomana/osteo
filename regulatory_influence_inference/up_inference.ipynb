{
 "cells": [
  {
   "cell_type": "markdown",
   "id": "961c6a47",
   "metadata": {},
   "source": [
    "Get data.\n",
    "try multiple clustering algorithms and plot the profiles"
   ]
  },
  {
   "cell_type": "code",
   "execution_count": 1,
   "id": "351cc93c",
   "metadata": {},
   "outputs": [],
   "source": [
    "import pandas, seaborn, numpy, pyensembl, scipy, os\n",
    "\n",
    "import sklearn, sklearn.cluster\n",
    "import statsmodels, statsmodels.stats, statsmodels.stats.multitest\n",
    "\n",
    "import matplotlib, matplotlib.pyplot\n",
    "matplotlib.rcParams.update({'font.size':20, 'font.family':'sans-serif', 'xtick.labelsize':20, 'ytick.labelsize':20, 'figure.figsize':(8, 4), 'axes.labelsize':20})"
   ]
  },
  {
   "cell_type": "markdown",
   "id": "e31f9394",
   "metadata": {},
   "source": [
    "# 0. user-defined variables"
   ]
  },
  {
   "cell_type": "code",
   "execution_count": 2,
   "id": "97c0e53e",
   "metadata": {},
   "outputs": [],
   "source": [
    "#! drangajokull\n",
    "home_dir = '/home/adrian/'\n",
    "\n",
    "#! necio5\n",
    "home_dir = '/Users/adrian/'"
   ]
  },
  {
   "cell_type": "code",
   "execution_count": 3,
   "id": "6a3eee44",
   "metadata": {},
   "outputs": [],
   "source": [
    "dorothea_regulons_dir = home_dir + 'databases/dorothea/regulons/'\n",
    "up_file = home_dir + 'gd15/hi/research/osteo/results/up_and_down_DEGs/up.csv'\n",
    "overall_file = home_dir + 'gd15/hi/research/osteo/results/up_and_down_DEGs/all_zscore.csv'\n",
    "regulons_results_file = home_dir + 'gd15/hi/research/osteo/results/regulons/regulons_up.csv'\n",
    "scratch_dir = home_dir + 'scratch/'\n",
    "\n",
    "days = [3, 6, 9, 16, 28]"
   ]
  },
  {
   "cell_type": "markdown",
   "id": "00e90ae4",
   "metadata": {},
   "source": [
    "# 1. read data"
   ]
  },
  {
   "cell_type": "markdown",
   "id": "3458c9fc",
   "metadata": {},
   "source": [
    "## 1.1. read expression data"
   ]
  },
  {
   "cell_type": "code",
   "execution_count": 4,
   "id": "1a240faf",
   "metadata": {},
   "outputs": [
    {
     "name": "stdout",
     "output_type": "stream",
     "text": [
      "(571, 5)\n"
     ]
    },
    {
     "data": {
      "text/html": [
       "<div>\n",
       "<style scoped>\n",
       "    .dataframe tbody tr th:only-of-type {\n",
       "        vertical-align: middle;\n",
       "    }\n",
       "\n",
       "    .dataframe tbody tr th {\n",
       "        vertical-align: top;\n",
       "    }\n",
       "\n",
       "    .dataframe thead th {\n",
       "        text-align: right;\n",
       "    }\n",
       "</style>\n",
       "<table border=\"1\" class=\"dataframe\">\n",
       "  <thead>\n",
       "    <tr style=\"text-align: right;\">\n",
       "      <th></th>\n",
       "      <th>Day_3</th>\n",
       "      <th>Day_6</th>\n",
       "      <th>Day_9</th>\n",
       "      <th>Day_16</th>\n",
       "      <th>Day_28</th>\n",
       "    </tr>\n",
       "  </thead>\n",
       "  <tbody>\n",
       "    <tr>\n",
       "      <th>ENSG00000106538</th>\n",
       "      <td>-1.041366</td>\n",
       "      <td>-0.637951</td>\n",
       "      <td>0.702163</td>\n",
       "      <td>-0.637951</td>\n",
       "      <td>1.615104</td>\n",
       "    </tr>\n",
       "    <tr>\n",
       "      <th>ENSG00000257017</th>\n",
       "      <td>-1.184086</td>\n",
       "      <td>-0.713912</td>\n",
       "      <td>0.881069</td>\n",
       "      <td>-0.438877</td>\n",
       "      <td>1.455807</td>\n",
       "    </tr>\n",
       "    <tr>\n",
       "      <th>ENSG00000112936</th>\n",
       "      <td>-1.270523</td>\n",
       "      <td>-0.691817</td>\n",
       "      <td>0.932816</td>\n",
       "      <td>-0.353296</td>\n",
       "      <td>1.382822</td>\n",
       "    </tr>\n",
       "    <tr>\n",
       "      <th>ENSG00000129988</th>\n",
       "      <td>-1.051535</td>\n",
       "      <td>-1.051535</td>\n",
       "      <td>1.257512</td>\n",
       "      <td>-0.229036</td>\n",
       "      <td>1.074594</td>\n",
       "    </tr>\n",
       "    <tr>\n",
       "      <th>ENSG00000133048</th>\n",
       "      <td>-1.784914</td>\n",
       "      <td>0.207845</td>\n",
       "      <td>1.236076</td>\n",
       "      <td>0.474520</td>\n",
       "      <td>-0.133526</td>\n",
       "    </tr>\n",
       "  </tbody>\n",
       "</table>\n",
       "</div>"
      ],
      "text/plain": [
       "                    Day_3     Day_6     Day_9    Day_16    Day_28\n",
       "ENSG00000106538 -1.041366 -0.637951  0.702163 -0.637951  1.615104\n",
       "ENSG00000257017 -1.184086 -0.713912  0.881069 -0.438877  1.455807\n",
       "ENSG00000112936 -1.270523 -0.691817  0.932816 -0.353296  1.382822\n",
       "ENSG00000129988 -1.051535 -1.051535  1.257512 -0.229036  1.074594\n",
       "ENSG00000133048 -1.784914  0.207845  1.236076  0.474520 -0.133526"
      ]
     },
     "execution_count": 4,
     "metadata": {},
     "output_type": "execute_result"
    }
   ],
   "source": [
    "expression = pandas.read_csv(up_file, index_col=0)\n",
    "\n",
    "print(expression.shape)\n",
    "expression.head()"
   ]
  },
  {
   "cell_type": "code",
   "execution_count": 5,
   "id": "ea0bc3e6",
   "metadata": {},
   "outputs": [
    {
     "name": "stdout",
     "output_type": "stream",
     "text": [
      "(61881, 5)\n"
     ]
    },
    {
     "data": {
      "text/html": [
       "<div>\n",
       "<style scoped>\n",
       "    .dataframe tbody tr th:only-of-type {\n",
       "        vertical-align: middle;\n",
       "    }\n",
       "\n",
       "    .dataframe tbody tr th {\n",
       "        vertical-align: top;\n",
       "    }\n",
       "\n",
       "    .dataframe thead th {\n",
       "        text-align: right;\n",
       "    }\n",
       "</style>\n",
       "<table border=\"1\" class=\"dataframe\">\n",
       "  <thead>\n",
       "    <tr style=\"text-align: right;\">\n",
       "      <th></th>\n",
       "      <th>Day_3</th>\n",
       "      <th>Day_6</th>\n",
       "      <th>Day_9</th>\n",
       "      <th>Day_16</th>\n",
       "      <th>Day_28</th>\n",
       "    </tr>\n",
       "  </thead>\n",
       "  <tbody>\n",
       "    <tr>\n",
       "      <th>ENSG00000000003</th>\n",
       "      <td>-1.652464</td>\n",
       "      <td>0.509438</td>\n",
       "      <td>1.011249</td>\n",
       "      <td>0.765363</td>\n",
       "      <td>-0.633587</td>\n",
       "    </tr>\n",
       "    <tr>\n",
       "      <th>ENSG00000000005</th>\n",
       "      <td>NaN</td>\n",
       "      <td>NaN</td>\n",
       "      <td>NaN</td>\n",
       "      <td>NaN</td>\n",
       "      <td>NaN</td>\n",
       "    </tr>\n",
       "    <tr>\n",
       "      <th>ENSG00000000419</th>\n",
       "      <td>0.388132</td>\n",
       "      <td>-0.813199</td>\n",
       "      <td>-1.316938</td>\n",
       "      <td>1.555271</td>\n",
       "      <td>0.186734</td>\n",
       "    </tr>\n",
       "    <tr>\n",
       "      <th>ENSG00000000457</th>\n",
       "      <td>0.500000</td>\n",
       "      <td>0.500000</td>\n",
       "      <td>0.500000</td>\n",
       "      <td>0.500000</td>\n",
       "      <td>-2.000000</td>\n",
       "    </tr>\n",
       "    <tr>\n",
       "      <th>ENSG00000000460</th>\n",
       "      <td>1.648206</td>\n",
       "      <td>-0.777687</td>\n",
       "      <td>-0.777687</td>\n",
       "      <td>0.684855</td>\n",
       "      <td>-0.777687</td>\n",
       "    </tr>\n",
       "  </tbody>\n",
       "</table>\n",
       "</div>"
      ],
      "text/plain": [
       "                    Day_3     Day_6     Day_9    Day_16    Day_28\n",
       "ENSG00000000003 -1.652464  0.509438  1.011249  0.765363 -0.633587\n",
       "ENSG00000000005       NaN       NaN       NaN       NaN       NaN\n",
       "ENSG00000000419  0.388132 -0.813199 -1.316938  1.555271  0.186734\n",
       "ENSG00000000457  0.500000  0.500000  0.500000  0.500000 -2.000000\n",
       "ENSG00000000460  1.648206 -0.777687 -0.777687  0.684855 -0.777687"
      ]
     },
     "execution_count": 5,
     "metadata": {},
     "output_type": "execute_result"
    }
   ],
   "source": [
    "overall_expression = pandas.read_csv(overall_file, index_col=0)\n",
    "\n",
    "print(overall_expression.shape)\n",
    "overall_expression.head()"
   ]
  },
  {
   "cell_type": "markdown",
   "id": "b33d61a5",
   "metadata": {},
   "source": [
    "## 1.2. read TF-gene interactions"
   ]
  },
  {
   "cell_type": "code",
   "execution_count": 6,
   "id": "3534e9ba",
   "metadata": {},
   "outputs": [],
   "source": [
    "regulons = {}\n",
    "regulon_files = os.listdir(dorothea_regulons_dir)\n",
    "for file in regulon_files:\n",
    "    TF_name = file.split('.txt')[0]\n",
    "    df = pandas.read_csv(dorothea_regulons_dir+file, sep='\\t', header=None, names=['target'])\n",
    "    targets = df['target'].to_list()\n",
    "    regulons[TF_name] = targets"
   ]
  },
  {
   "cell_type": "code",
   "execution_count": 7,
   "id": "aae8ad4e",
   "metadata": {},
   "outputs": [
    {
     "data": {
      "text/plain": [
       "EnsemblRelease(release=86, species='homo_sapiens')"
      ]
     },
     "execution_count": 7,
     "metadata": {},
     "output_type": "execute_result"
    }
   ],
   "source": [
    "annotation = pyensembl.EnsemblRelease(86) # better matching than version 100\n",
    "annotation"
   ]
  },
  {
   "cell_type": "code",
   "execution_count": 8,
   "id": "dcc69298",
   "metadata": {},
   "outputs": [
    {
     "name": "stdout",
     "output_type": "stream",
     "text": [
      "Missing #1. ENSG00000274619 not found\n",
      "Missing #2. ENSG00000278843 not found\n",
      "Missing #3. ENSG00000282854 not found\n",
      "Missing #4. ENSG00000283009 not found\n",
      "Missing #5. ENSG00000283106 not found\n",
      "Missing #6. ENSG00000263238 not found\n",
      "Missing #7. ENSG00000275482 not found\n",
      "Missing #8. ENSG00000273707 not found\n",
      "Missing #9. ENSG00000282147 not found\n"
     ]
    }
   ],
   "source": [
    "# 12 missing for annotation 75\n",
    "# 9 missing for annotation 86\n",
    "# 11 missing for annotation 100\n",
    "# 11 missing for annotation 102\n",
    "up_genes = expression.index.to_list()\n",
    "rosetta_up_genes = {}\n",
    "\n",
    "missing = 0\n",
    "for ensembl in up_genes:\n",
    "    try:\n",
    "        gene_name = annotation.gene_by_id(ensembl).gene_name\n",
    "        rosetta_up_genes[ensembl] = gene_name\n",
    "    except:\n",
    "        missing = missing + 1\n",
    "        print('Missing #{}. {} not found'.format(missing, ensembl))"
   ]
  },
  {
   "cell_type": "code",
   "execution_count": 9,
   "id": "bf1e3d75",
   "metadata": {},
   "outputs": [
    {
     "name": "stdout",
     "output_type": "stream",
     "text": [
      "found 20295 targets\n"
     ]
    }
   ],
   "source": [
    "# define M, the number of target genes in Dorothea regulons\n",
    "all_targets = []\n",
    "for TF in regulons:\n",
    "    for element in regulons[TF]:\n",
    "        all_targets.append(element)\n",
    "M = len(list(set(all_targets)))\n",
    "print('found {} targets'.format(M))"
   ]
  },
  {
   "cell_type": "markdown",
   "id": "67f391a8",
   "metadata": {},
   "source": [
    "# 2. format data"
   ]
  },
  {
   "cell_type": "code",
   "execution_count": 10,
   "id": "dc877e85",
   "metadata": {},
   "outputs": [
    {
     "data": {
      "text/plain": [
       "<seaborn.matrix.ClusterGrid at 0x7f94d5b54970>"
      ]
     },
     "execution_count": 10,
     "metadata": {},
     "output_type": "execute_result"
    }
   ],
   "source": [
    "linkage_method = 'complete'\n",
    "distance_metric = 'cosine'\n",
    "\n",
    "seaborn.clustermap(expression, cmap='bwr', vmin=-2, vmax=2, col_cluster=False, method=linkage_method, metric=distance_metric,  cbar_kws={'label':'z-score'})"
   ]
  },
  {
   "cell_type": "code",
   "execution_count": 11,
   "id": "06dcfb0b",
   "metadata": {},
   "outputs": [
    {
     "data": {
      "text/plain": [
       "array([[-1.04136554, -0.63795097,  0.70216321, -0.63795097,  1.61510426],\n",
       "       [-1.18408635, -0.71391191,  0.88106904, -0.43887749,  1.45580671],\n",
       "       [-1.27052345, -0.6918175 ,  0.93281551, -0.35329621,  1.38282165],\n",
       "       ...,\n",
       "       [-1.39939766, -0.23503204,  0.6681201 ,  1.50128656, -0.53497696],\n",
       "       [ 0.78501372, -0.03377595, -0.03377595, -1.79471421,  1.0772524 ],\n",
       "       [ 0.61327685, -0.6199899 ,  0.35890899, -1.59888878,  1.24669284]])"
      ]
     },
     "execution_count": 11,
     "metadata": {},
     "output_type": "execute_result"
    }
   ],
   "source": [
    "x = expression.to_numpy()\n",
    "x"
   ]
  },
  {
   "cell_type": "code",
   "execution_count": 12,
   "id": "777f9926",
   "metadata": {},
   "outputs": [
    {
     "data": {
      "text/plain": [
       "<seaborn.matrix.ClusterGrid at 0x7f94d5e73850>"
      ]
     },
     "execution_count": 12,
     "metadata": {},
     "output_type": "execute_result"
    }
   ],
   "source": [
    "seaborn.clustermap(x, cmap='bwr', vmin=-2, vmax=2, col_cluster=False, method=linkage_method, metric=distance_metric,  cbar_kws={'label':'z-score'})"
   ]
  },
  {
   "cell_type": "markdown",
   "id": "b2061d62",
   "metadata": {},
   "source": [
    "# 3. define partition range"
   ]
  },
  {
   "cell_type": "code",
   "execution_count": 13,
   "id": "c7e5a337",
   "metadata": {},
   "outputs": [
    {
     "name": "stdout",
     "output_type": "stream",
     "text": [
      "28 114\n"
     ]
    }
   ],
   "source": [
    "number_elements = expression.shape[0]\n",
    "fine = int(number_elements/5)\n",
    "coarse = int(number_elements/20)\n",
    "print(coarse, fine)\n",
    "k_range = range(coarse, fine+1)\n",
    "# k_range = range(35, 45)"
   ]
  },
  {
   "cell_type": "markdown",
   "id": "e715a483",
   "metadata": {},
   "source": [
    "# 4. learning"
   ]
  },
  {
   "cell_type": "code",
   "execution_count": 14,
   "id": "3fd4704d",
   "metadata": {},
   "outputs": [
    {
     "name": "stdout",
     "output_type": "stream",
     "text": [
      "p-value <= 20: 0.9989104333089479\n",
      "p-value >= 20: 0.0025301883214874205\n"
     ]
    }
   ],
   "source": [
    "###\n",
    "### informative cell about hypergeometric test\n",
    "###\n",
    "\n",
    "# M is the population size\n",
    "# n is the number of successes in the population \n",
    "# N is the sample size (previously n)\n",
    "# x is still the number of drawn “successes”\n",
    "\n",
    "# M is the total number of targets in Dorothea\n",
    "# n is the number of targets of a particular TF in Dorothea\n",
    "# N is the size of DETs\n",
    "# x is the number of DETs that are targets of a particular TF\n",
    "\n",
    "M = 20000\n",
    "n = 200\n",
    "\n",
    "N = 1000\n",
    "xint = 20 # 10 would be the same ratio\n",
    "\n",
    "print('p-value <= ' + str(xint) + ': ' + str(scipy.stats.hypergeom.cdf(xint, M, n, N)))\n",
    "print('p-value >= ' + str(xint)  + ': ' + str(scipy.stats.hypergeom.sf(xint-1, M, n, N)))"
   ]
  },
  {
   "cell_type": "code",
   "execution_count": 15,
   "id": "48ec3508",
   "metadata": {},
   "outputs": [],
   "source": [
    "log = open('log.txt', 'w')"
   ]
  },
  {
   "cell_type": "code",
   "execution_count": 16,
   "id": "678e77ed",
   "metadata": {
    "scrolled": false
   },
   "outputs": [],
   "source": [
    "def tf_enrichment(k, labels):\n",
    "    \n",
    "    domain = []; controllers = [] \n",
    "    regulons_membership = {}; regulons_activity = {}; regulons_quant = {}\n",
    "    cluster_id_map = {}\n",
    "    \n",
    "    figures_dir = scratch_dir + str(k) + '/'\n",
    "    if os.path.exists(figures_dir) == False:\n",
    "        os.mkdir(figures_dir)\n",
    "    \n",
    "    for ki in range(k): ### iteration over clusters in a given partition\n",
    "        \n",
    "        indices = numpy.where(labels == ki)[0]\n",
    "        log.write('\\nCluster c{} with {} gene indices: {}\\n'.format(ki, len(indices), indices))\n",
    "        cluster = expression.iloc[indices, :]\n",
    "        cluster_average = cluster.mean().values\n",
    "\n",
    "        ###\n",
    "        ### plotting\n",
    "        ###\n",
    "#         for gene in cluster.index:\n",
    "#             matplotlib.pyplot.plot(days, cluster.loc[gene, :], 'o-')\n",
    "#         matplotlib.pyplot.xlabel('Time (day)')\n",
    "#         matplotlib.pyplot.ylabel('zscore')\n",
    "#         matplotlib.pyplot.grid(alpha=0.5, ls=':')\n",
    "#         matplotlib.pyplot.ylim([-2, 2])\n",
    "#         matplotlib.pyplot.xlim(([0, 29]))\n",
    "#         matplotlib.pyplot.title('k={} | c{}'.format(k, ki))\n",
    "#         matplotlib.pyplot.tight_layout()\n",
    "#         matplotlib.pyplot.savefig(figures_dir+'c{}.pdf'.format(ki))\n",
    "#         matplotlib.pyplot.clf()\n",
    "        \n",
    "        ###\n",
    "        ### convert cluster ENSEMBL ids into gene names\n",
    "        ###\n",
    "        cluster_ensembl_ids = expression.index[indices]\n",
    "        cluster_gene_names = []\n",
    "        for ensembl in cluster_ensembl_ids:\n",
    "            try:\n",
    "                gene_name = rosetta_up_genes[ensembl]\n",
    "                cluster_gene_names.append(gene_name)\n",
    "                cluster_id_map[gene_name] = ensembl\n",
    "            except:\n",
    "                log.write('ENSEMBL ID {} lost.\\n'.format(ensembl))\n",
    "        log.write('{}/{} genes recovered.\\n'.format(len(cluster_gene_names), len(cluster_ensembl_ids)))\n",
    "\n",
    "        ###\n",
    "        ### enrichment\n",
    "        ###\n",
    "\n",
    "        # define N, the size of the regulon\n",
    "        N = len(cluster_gene_names)\n",
    "\n",
    "        # get all TFs regulating each target gene\n",
    "        putative_TFs = []\n",
    "        for gene_name in cluster_gene_names:\n",
    "            for TF in regulons:\n",
    "                if gene_name in regulons[TF]:\n",
    "                    putative_TFs.append(TF)\n",
    "        putative_regulators = list(set(putative_TFs))\n",
    "        putative_regulators.sort()\n",
    "        log.write('all possible regulators of this cluster:{}\\n'.format(len(putative_regulators)))\n",
    "\n",
    "        # hypergeometric test for putative regulators\n",
    "        p_values_uncorrected = []\n",
    "        hits_tracker = [] # store tuples of information\n",
    "        for putative_regulator in putative_regulators:\n",
    "\n",
    "            # define n, the number of targets of that particular TF in Dorothea\n",
    "            global_TF_targets = regulons[putative_regulator]\n",
    "            n = len(global_TF_targets)\n",
    "\n",
    "            # define x, the number of DETs that are targets of that particular TF\n",
    "            intersect = list(set(cluster_gene_names) & set(global_TF_targets))\n",
    "            x = len(intersect)\n",
    "\n",
    "            # make sure that the regulon has at least two target genes for a given TF, otherwise, don't waste hypothesis correction\n",
    "            if x >= 2:\n",
    "                pvalue = scipy.stats.hypergeom.sf(x-1, M, n, N)\n",
    "                p_values_uncorrected.append(pvalue)\n",
    "                \n",
    "                # compute activity\n",
    "                intersect_ensembl = [cluster_id_map[element] for element in intersect]\n",
    "                activity = expression.loc[intersect_ensembl, :].mean().values\n",
    "                \n",
    "                # prepare information in a tuple\n",
    "                tracking_tuple = (putative_regulator, n, M, x, N, round(x/N, 3), intersect, activity)\n",
    "                hits_tracker.append(tracking_tuple)\n",
    "\n",
    "        # multiple correction for all putative regulators of this cluster: Benjamini–Hochberg correction\n",
    "        alternative, corrected_p_values = statsmodels.stats.multitest.fdrcorrection(p_values_uncorrected, alpha=0.1)\n",
    "        for i in range(len(alternative)):\n",
    "            if alternative[i] == True:\n",
    "                \n",
    "                # compute correlation: first TF, then just get the activity of those target genes, not the cluster\n",
    "                \n",
    "                # TF\n",
    "                recovered_ids = annotation.genes_by_name(hits_tracker[i][0])\n",
    "                if len(recovered_ids) == 1:\n",
    "                    tf_id = recovered_ids[0].gene_id\n",
    "                else:\n",
    "                    raise ValueError('two IDs found for a given TF')\n",
    "                try:\n",
    "                    tf_trend = overall_expression.loc[tf_id, :].values\n",
    "                except:\n",
    "                    log.write('\\t TF {} not found in overall expression\\n'.format(tf_id))\n",
    "                    tf_trend = [numpy.NAN]\n",
    "                \n",
    "                if numpy.isnan(tf_trend).any() == True:\n",
    "                    pcc = 0\n",
    "                else:\n",
    "                    pcc, pvalue = scipy.stats.pearsonr(tf_trend, hits_tracker[i][7])\n",
    "                \n",
    "                if pcc > 0.8:\n",
    "                    log.write('\\t HIT: {} {}\\n'.format(round(pcc, 3), hits_tracker[i][:-1]))\n",
    "                    \n",
    "                    controllers.append(hits_tracker[i][0])\n",
    "                    for element in hits_tracker[i][6]:\n",
    "                        domain.append(element)\n",
    "                    \n",
    "                    # merging if necessary\n",
    "                    if hits_tracker[i][0] not in regulons_membership:\n",
    "                        regulons_membership[hits_tracker[i][0]] = hits_tracker[i][6]\n",
    "                        regulons_quant[hits_tracker[i][0]] = [(pcc, corrected_p_values[i])]\n",
    "                    else:\n",
    "                        for element in hits_tracker[i][6]:\n",
    "                            regulons_membership[hits_tracker[i][0]].append(element)\n",
    "                        regulons_quant[hits_tracker[i][0]].append((pcc, corrected_p_values[i]))\n",
    "                        log.write('\\t merged two regulons that shared TF {}'.format(hits_tracker[i][0]))\n",
    "                        \n",
    "    # compute the domain\n",
    "    unique_domain = list(set(domain))\n",
    "    domain_size = len(unique_domain)\n",
    "    \n",
    "    unique_controllers = list(set(controllers))\n",
    "    controllers_size = len(unique_controllers)\n",
    "    \n",
    "    # compute regulon activity\n",
    "    for TF in regulons_membership:\n",
    "        targets = regulons_membership[TF]\n",
    "        targets_ensembl = [cluster_id_map[gene_name] for gene_name in targets]\n",
    "        activity = expression.loc[targets_ensembl, :].mean().values\n",
    "        regulons_activity[TF] = activity\n",
    "                \n",
    "    return domain_size, controllers_size, regulons_membership, regulons_activity, regulons_quant"
   ]
  },
  {
   "cell_type": "code",
   "execution_count": 17,
   "id": "7f0ef0d7",
   "metadata": {
    "scrolled": false
   },
   "outputs": [],
   "source": [
    "###\n",
    "### iteration over k\n",
    "###\n",
    "\n",
    "p_ss = []; p_khi = []; p_dbi = []; p_dom = []; p_control = []; p_quant = []\n",
    "p_rm = []; p_ra = []\n",
    "\n",
    "for k in k_range:\n",
    "    \n",
    "    log.write('WORKING WITH k={}\\n'.format(k))\n",
    "\n",
    "    partition = sklearn.cluster.AgglomerativeClustering(n_clusters=k, affinity='cosine', linkage='complete').fit(x)\n",
    "    labels = partition.labels_\n",
    "\n",
    "    ss = sklearn.metrics.silhouette_score(x, labels, metric='cosine')\n",
    "    khi = sklearn.metrics.calinski_harabasz_score(x, labels)\n",
    "    dbi = sklearn.metrics.davies_bouldin_score(x, labels)\n",
    "\n",
    "    p_ss.append(ss)\n",
    "    p_khi.append(khi)\n",
    "    p_dbi.append(dbi)\n",
    "    \n",
    "    domain_size, controllers_size, regulons_membership, regulons_activity, regulons_quant = tf_enrichment(k, labels)\n",
    "    \n",
    "    p_dom.append(domain_size)\n",
    "    p_control.append(controllers_size)\n",
    "    \n",
    "    p_rm.append(regulons_membership)\n",
    "    p_ra.append(regulons_activity)\n",
    "    p_quant.append(regulons_quant)"
   ]
  },
  {
   "cell_type": "code",
   "execution_count": 18,
   "id": "111996b1",
   "metadata": {},
   "outputs": [],
   "source": [
    "log.close()"
   ]
  },
  {
   "cell_type": "code",
   "execution_count": 19,
   "id": "13b1d9b0",
   "metadata": {},
   "outputs": [],
   "source": [
    "# need to do with K means and all other methods present in sklearn that are inductive (?)"
   ]
  },
  {
   "cell_type": "markdown",
   "id": "9c9463cb",
   "metadata": {},
   "source": [
    "## 4.1. plot learned results"
   ]
  },
  {
   "cell_type": "code",
   "execution_count": 20,
   "id": "1a9824dc",
   "metadata": {},
   "outputs": [],
   "source": [
    "matplotlib.pyplot.plot(k_range, p_control, 'ok')\n",
    "matplotlib.pyplot.plot(k_range, p_control, ':', color='black')\n",
    "matplotlib.pyplot.grid(alpha=0.5, ls=':')\n",
    "matplotlib.pyplot.xlabel('number of clusters (k)')\n",
    "matplotlib.pyplot.ylabel('# regulators')\n",
    "matplotlib.pyplot.tight_layout()"
   ]
  },
  {
   "cell_type": "code",
   "execution_count": 21,
   "id": "c46d50c4",
   "metadata": {},
   "outputs": [],
   "source": [
    "matplotlib.pyplot.plot(k_range, p_dom, 'ok')\n",
    "matplotlib.pyplot.plot(k_range, p_dom, ':', color='black')\n",
    "matplotlib.pyplot.xlabel('number of clusters (k)')\n",
    "matplotlib.pyplot.ylabel('gene domain')\n",
    "matplotlib.pyplot.grid(alpha=0.5, ls=':')\n",
    "matplotlib.pyplot.tight_layout()"
   ]
  },
  {
   "cell_type": "code",
   "execution_count": 22,
   "id": "56487cd0",
   "metadata": {},
   "outputs": [],
   "source": [
    "matplotlib.pyplot.plot(k_range, p_ss, 'ok')\n",
    "matplotlib.pyplot.plot(k_range, p_ss, ':', color='black')\n",
    "matplotlib.pyplot.grid(alpha=0.5, ls=':')\n",
    "matplotlib.pyplot.xlabel('number of clusters (k)')\n",
    "matplotlib.pyplot.ylabel('Silhouette score [max]')\n",
    "matplotlib.pyplot.tight_layout()"
   ]
  },
  {
   "cell_type": "code",
   "execution_count": 23,
   "id": "ac25440d",
   "metadata": {},
   "outputs": [],
   "source": [
    "matplotlib.pyplot.plot(k_range, p_khi, 'ob')\n",
    "matplotlib.pyplot.plot(k_range, p_khi, ':', color='blue')\n",
    "matplotlib.pyplot.grid(alpha=0.5, ls=':')\n",
    "matplotlib.pyplot.xlabel('number of clusters (k)')\n",
    "matplotlib.pyplot.ylabel('Calinski Harabasz [max]')\n",
    "matplotlib.pyplot.tight_layout()"
   ]
  },
  {
   "cell_type": "code",
   "execution_count": 24,
   "id": "7920a3e4",
   "metadata": {},
   "outputs": [],
   "source": [
    "matplotlib.pyplot.plot(k_range, p_dbi, 'or')\n",
    "matplotlib.pyplot.plot(k_range, p_dbi, ':', color='red')\n",
    "matplotlib.pyplot.grid(alpha=0.5, ls=':')\n",
    "matplotlib.pyplot.xlabel('number of clusters (k)')\n",
    "matplotlib.pyplot.ylabel('Davies–Bouldin index [min]')\n",
    "matplotlib.pyplot.tight_layout()"
   ]
  },
  {
   "cell_type": "markdown",
   "id": "256cb26b",
   "metadata": {},
   "source": [
    "# 5. store results"
   ]
  },
  {
   "cell_type": "code",
   "execution_count": 25,
   "id": "cbd53863",
   "metadata": {},
   "outputs": [
    {
     "name": "stdout",
     "output_type": "stream",
     "text": [
      "0 28\n",
      "1 29\n",
      "2 30\n",
      "3 31\n",
      "4 32\n",
      "5 33\n",
      "6 34\n",
      "7 35\n",
      "8 36\n",
      "9 37\n",
      "10 38\n",
      "11 39\n",
      "12 40\n",
      "13 41\n",
      "\t storing\n",
      "14 42\n",
      "15 43\n",
      "16 44\n",
      "17 45\n",
      "18 46\n",
      "19 47\n",
      "20 48\n",
      "21 49\n",
      "22 50\n",
      "23 51\n",
      "24 52\n",
      "25 53\n",
      "26 54\n",
      "27 55\n",
      "28 56\n",
      "29 57\n",
      "30 58\n",
      "31 59\n",
      "32 60\n",
      "33 61\n",
      "34 62\n",
      "35 63\n",
      "36 64\n",
      "37 65\n",
      "38 66\n",
      "39 67\n",
      "40 68\n",
      "41 69\n",
      "42 70\n",
      "43 71\n",
      "44 72\n",
      "45 73\n",
      "46 74\n",
      "47 75\n",
      "48 76\n",
      "49 77\n",
      "50 78\n",
      "51 79\n",
      "52 80\n",
      "53 81\n",
      "54 82\n",
      "55 83\n",
      "56 84\n",
      "57 85\n",
      "58 86\n",
      "59 87\n",
      "60 88\n",
      "61 89\n",
      "62 90\n",
      "63 91\n",
      "64 92\n",
      "65 93\n",
      "66 94\n",
      "67 95\n",
      "68 96\n",
      "69 97\n",
      "70 98\n",
      "71 99\n",
      "72 100\n",
      "73 101\n",
      "74 102\n",
      "75 103\n",
      "76 104\n",
      "77 105\n",
      "78 106\n",
      "79 107\n",
      "80 108\n",
      "81 109\n",
      "82 110\n",
      "83 111\n",
      "84 112\n",
      "85 113\n",
      "86 114\n"
     ]
    }
   ],
   "source": [
    "for i in range(len(k_range)):\n",
    "    print(i, k_range[i])\n",
    "    \n",
    "    if k_range[i] == 41:\n",
    "        print('\\t storing')\n",
    "        regulons_membership = p_rm[i]\n",
    "        regulons_activity = p_ra[i]\n",
    "        quant = p_quant[i]"
   ]
  },
  {
   "cell_type": "code",
   "execution_count": 26,
   "id": "0c8c6ebc",
   "metadata": {},
   "outputs": [
    {
     "data": {
      "text/plain": [
       "{'PRRX2': array([-1.64755403, -0.29197976,  0.81521397,  0.32527099,  0.79904882]),\n",
       " 'JDP2': array([-1.42267915, -0.58609522,  0.40850514,  0.27368056,  1.32658867]),\n",
       " 'RORB': array([-1.20409554, -0.93363027, -0.06760523,  0.80170687,  1.40362417]),\n",
       " 'NFATC4': array([-1.37507955,  0.79053045,  1.25782851, -0.08812128, -0.58515813]),\n",
       " 'POU6F1': array([-1.27172733,  0.60348254,  1.52669961, -0.37751511, -0.4809397 ]),\n",
       " 'ZFP90': array([-1.43720234,  0.50260301,  1.50914835, -0.17403359, -0.40051544]),\n",
       " 'TSC22D1': array([-1.2366383 , -0.33943717,  0.00211586, -0.10613974,  1.68009936]),\n",
       " 'TBX19': array([-1.16555099,  0.34147819,  0.90049518, -1.16555099,  1.08912861]),\n",
       " 'TGIF1': array([-1.48373774, -0.07117083,  0.54108335, -0.37443189,  1.38825711]),\n",
       " 'CREBL2': array([-1.76313131,  0.81705185, -0.07030546, -0.03813774,  1.05452266]),\n",
       " 'NKX3-2': array([-1.87839436,  0.62828209, -0.01538453,  0.3194383 ,  0.94605849]),\n",
       " 'PLAG1': array([-1.76313131,  0.81705185, -0.07030546, -0.03813774,  1.05452266]),\n",
       " 'FOXC1': array([-1.73171349, -0.21398332,  0.69419327,  0.26177823,  0.98972531]),\n",
       " 'ZNF521': array([-1.66440252, -0.09060341,  0.54188545,  0.05919725,  1.15392323]),\n",
       " 'DBP': array([-0.87464857, -0.6199119 , -0.44622637,  0.04787791,  1.89290893]),\n",
       " 'ARID5B': array([-1.66110456,  0.23275471,  0.33917554, -0.21349658,  1.3026709 ]),\n",
       " 'ZNF581': array([-1.83999889,  0.88843614,  0.49671833, -0.13624909,  0.5910935 ]),\n",
       " 'ARID5A': array([-1.33354304, -0.33388565,  0.52280486, -0.38592649,  1.53055033]),\n",
       " 'ATF4': array([-1.5816269 , -0.49832924,  0.61970359,  0.2071389 ,  1.25311366]),\n",
       " 'FOS': array([-1.29342141, -0.83418957,  0.58110243,  0.05535277,  1.49115577]),\n",
       " 'OSR2': array([-1.31945539, -0.50056155,  0.54583408, -0.2472945 ,  1.52147736]),\n",
       " 'YBX3': array([-1.56503262, -0.47135452,  0.48749948,  0.30076356,  1.2481241 ]),\n",
       " 'ZNF22': array([-1.53864282, -0.32718707,  0.58279047, -0.15335971,  1.43639912]),\n",
       " 'TBX15': array([-1.7594433 , -0.28527371,  0.47607011,  0.44671064,  1.12193626]),\n",
       " 'ZBTB47': array([-1.7536743 , -0.20275885,  0.67987137,  0.29299516,  0.98356662]),\n",
       " 'BHLHE40': array([-1.14775831, -0.48162223,  0.14119785, -0.31600281,  1.8041855 ]),\n",
       " 'EBF1': array([-1.0303074 , -0.78725861,  0.25172464, -0.20652898,  1.77237035]),\n",
       " 'FOXO1': array([-0.95688788, -0.95688788,  0.22743071, -0.06558956,  1.7519346 ]),\n",
       " 'PPARG': array([-1.29180343, -0.41177953,  0.08808397, -0.14413736,  1.75963635]),\n",
       " 'TCF21': array([-1.06422164, -0.48036495,  0.11780821, -0.35777575,  1.78455412]),\n",
       " 'HLX': array([-1.05860836, -0.63331742,  0.73125394, -0.63331742,  1.59398926]),\n",
       " 'ATOH8': array([-1.66786634, -0.28808328, -0.06382232,  0.94311802,  1.07665393]),\n",
       " 'TWIST1': array([-1.60548255, -0.42288699, -0.06867541,  1.10851774,  0.98852721]),\n",
       " 'HIF3A': array([-1.45258149,  1.59641031,  0.21751538, -0.40149293,  0.04014874]),\n",
       " 'ZNF350': array([-1.39933452,  0.97471815,  0.78575629, -0.90612123,  0.54498131]),\n",
       " 'MEF2A': array([-1.14674522, -0.16460898, -0.46590861, -0.066702  ,  1.84396482]),\n",
       " 'ZBTB38': array([-1.11806489, -0.23160108, -0.41981769, -0.09007237,  1.85955603]),\n",
       " 'ARNT': array([-1.54095461,  0.12709821,  0.03188453, -0.1977137 ,  1.57968557]),\n",
       " 'FOXO3': array([-1.53350736,  0.39041123,  0.19670496, -0.51232264,  1.45871382]),\n",
       " 'KLF15': array([-1.32321908,  0.2184105 , -0.0786939 , -0.42045189,  1.60395437]),\n",
       " 'RORA': array([-1.469176  ,  0.25723864,  0.0493816 , -0.38822475,  1.55078051]),\n",
       " 'SP100': array([-1.65103171,  0.10510028,  0.13965093,  0.02072941,  1.38555109]),\n",
       " 'TFDP2': array([-1.28405028,  0.2045689 , -0.02616787, -0.54734483,  1.65299408]),\n",
       " 'CEBPB': array([-1.83397334,  0.00518484,  0.71210653,  0.10106119,  1.01562078]),\n",
       " 'ZNF394': array([-1.48660161, -0.21212967,  1.635806  , -0.01400989,  0.07693517]),\n",
       " 'GLIS3': array([-1.72105622,  0.19482406,  0.68103118, -0.32399138,  1.16919237]),\n",
       " 'KLF11': array([-1.54043181,  0.23942299,  0.62483923, -0.63954913,  1.31571873]),\n",
       " 'TEF': array([-1.66459415,  0.34804255,  0.50544788, -0.43872   ,  1.24982372]),\n",
       " 'ZBED3': array([-1.75367648, -0.12193711,  0.1633475 ,  0.4401946 ,  1.27207149]),\n",
       " 'RLF': array([-1.09121291, -0.09626875,  0.27026829, -0.81418663,  1.73139999]),\n",
       " 'SNAI2': array([-1.54244003, -0.34026682,  0.01179517,  0.35033728,  1.5205744 ])}"
      ]
     },
     "execution_count": 26,
     "metadata": {},
     "output_type": "execute_result"
    }
   ],
   "source": [
    "regulons_activity"
   ]
  },
  {
   "cell_type": "code",
   "execution_count": 27,
   "id": "e3143462",
   "metadata": {
    "scrolled": false
   },
   "outputs": [
    {
     "name": "stdout",
     "output_type": "stream",
     "text": [
      "PRRX2 0.8418027096757 0.042796600386172105\n",
      "JDP2 0.9360686037960789 0.04496160918618047\n",
      "RORB 0.9414513401203647 0.07006714444863202\n",
      "NFATC4 0.9018844183865491 0.061036795763117956\n",
      "POU6F1 0.8285361001303123 0.05299166714010088\n",
      "ZFP90 0.8923785965493767 0.06787611051328156\n",
      "TSC22D1 0.9402872257573911 0.050579691854766705\n",
      "TBX19 0.9681993686750608 0.06378292172538172\n",
      "TGIF1 0.9049189336677705 0.06293730368522257\n",
      "CREBL2 0.8167989409817482 0.05294326797056116\n",
      "NKX3-2 0.9467628891164984 0.04869640180298365\n",
      "PLAG1 0.9215657460771387 0.036601918094228136\n",
      "FOXC1 0.8999440182584092 0.0357309376939664\n",
      "ZNF521 0.9058976777650527 0.035098500318978335\n",
      "DBP 0.8644594845986422 0.09065581145209477\n",
      "ARID5B 0.8840793018474671 0.039440010752589544\n",
      "ZNF581 0.8656407709105888 0.07949117483318507\n",
      "ARID5A 0.9154819499362752 0.07770049229053926\n",
      "ATF4 0.9774056450433518 0.005870326702898251\n",
      "FOS 0.9473622860577045 0.05417787102769691\n",
      "OSR2 0.8865578388757394 0.018050466013677068\n",
      "YBX3 0.9268597635594348 0.05349791422690991\n",
      "ZNF22 0.8194819640812812 0.046344036349177865\n",
      "TBX15 0.8314022569520791 0.013622819996511265\n",
      "ZBTB47 0.8889563414132807 0.0728243664876257\n",
      "BHLHE40 0.8082221257684024 0.038286887505629814\n",
      "EBF1 0.8111072929245493 0.055500365134812706\n",
      "FOXO1 0.8853663938772431 0.026712198758923857\n",
      "PPARG 0.9130585739964578 0.026712198758923857\n",
      "TCF21 0.9046550763185724 0.0701378708402734\n",
      "HLX 0.8242737719394375 0.08500109559027841\n",
      "ATOH8 0.8656014988677806 0.06323081671631266\n",
      "TWIST1 0.907564533364105 0.0013783565366474692\n",
      "HIF3A 0.8089015823620763 0.001411370876748751\n",
      "ZNF350 0.8131674226412298 0.07979707031588407\n",
      "MEF2A 0.8170731259422374 0.034415877409015284\n",
      "ZBTB38 0.8621165308470105 0.06584864704599828\n",
      "ARNT 0.80862598930363 0.0781774516979513\n",
      "FOXO3 0.939598521891301 0.046389645438929164\n",
      "KLF15 0.899047390461822 0.026624956751341678\n",
      "RORA 0.8866735540531487 0.046389645438929164\n",
      "SP100 0.9278937732480109 0.01689888640103392\n",
      "TFDP2 0.9277279040678306 0.07695873038145386\n",
      "CEBPB 0.9395343197707191 0.05249972534755352\n",
      "ZNF394 0.8231083422636158 0.0710460604530962\n",
      "GLIS3 0.8051373148697099 0.004303554589333211\n",
      "KLF11 0.9009299448045313 0.03942574705515068\n",
      "TEF 0.9417001334627018 0.021357124835346943\n",
      "ZBED3 0.952302120202641 0.021413777059692378\n",
      "RLF 0.871496950022894 0.057330156605399106\n",
      "SNAI2 0.9013593699629712 0.020477222337849085\n"
     ]
    }
   ],
   "source": [
    "with open(regulons_results_file, 'w') as f:\n",
    "    \n",
    "    f.write('TF\\tRegulon size\\tTarget genes\\tTF-targets PCC\\tEnrichment corrected P value\\tDay 3\\tDay 6\\tDay 9\\tDay 16\\t Day 28\\n')\n",
    "    \n",
    "    for tf in regulons_membership:\n",
    "        \n",
    "        f.write(tf)\n",
    "        f.write('\\t{}'.format(len(regulons_membership[tf])))\n",
    "        \n",
    "        gene_string = ', '.join(regulons_membership[tf])\n",
    "        f.write('\\t{}'.format(gene_string))\n",
    "        \n",
    "        # pcc and correcte P value\n",
    "        #for element in quant[tf]:\n",
    "        mean_pcc = numpy.mean([element[0] for element in quant[tf]])\n",
    "        mean_pvalue = numpy.mean([element[1] for element in quant[tf]])\n",
    "        print(tf, mean_pcc, mean_pvalue)\n",
    "        f.write('\\t{}\\t{:.2e}'.format(round(mean_pcc, 3), round(mean_pvalue, 4)))\n",
    "        \n",
    "        # activity\n",
    "        for element in regulons_activity[tf]:\n",
    "            f.write('\\t{}'.format(round(element, 3)))\n",
    "        \n",
    "        f.write('\\n')"
   ]
  },
  {
   "cell_type": "code",
   "execution_count": 28,
   "id": "a0c8ce09",
   "metadata": {},
   "outputs": [
    {
     "name": "stdout",
     "output_type": "stream",
     "text": [
      "all TFs: 51\n",
      "all targets: 236\n"
     ]
    }
   ],
   "source": [
    "all_tfs = []; all_targets = []\n",
    "for TF in regulons_membership:\n",
    "    all_tfs.append(TF)\n",
    "    \n",
    "    for element in regulons_membership[TF]:\n",
    "        all_targets.append(element)\n",
    "    \n",
    "print('all TFs: {}'.format(len(list(set(all_tfs)))))\n",
    "print('all targets: {}'.format(len(list(set(all_targets)))))"
   ]
  },
  {
   "cell_type": "code",
   "execution_count": 29,
   "id": "6d8968e6",
   "metadata": {},
   "outputs": [
    {
     "name": "stdout",
     "output_type": "stream",
     "text": [
      "0.4915254237288136\n"
     ]
    }
   ],
   "source": [
    "riffraff = []\n",
    "selected = ['ZNF521', 'FOXC1', 'PRRX2', 'TGIF1', 'ARID5B'] # 0.491525\n",
    "#selected = ['ZNF521', 'FOXC1', 'PRRX2', 'TGIF1', 'ARID5B', 'OSR2'] # 0.54237\n",
    "for sel in selected:\n",
    "    for element in regulons_membership[sel]:\n",
    "        riffraff.append(element)\n",
    "print(len(list(set(riffraff)))/236)"
   ]
  },
  {
   "cell_type": "code",
   "execution_count": null,
   "id": "89f74b4c",
   "metadata": {},
   "outputs": [],
   "source": []
  }
 ],
 "metadata": {
  "kernelspec": {
   "display_name": "Python 3",
   "language": "python",
   "name": "python3"
  },
  "language_info": {
   "codemirror_mode": {
    "name": "ipython",
    "version": 3
   },
   "file_extension": ".py",
   "mimetype": "text/x-python",
   "name": "python",
   "nbconvert_exporter": "python",
   "pygments_lexer": "ipython3",
   "version": "3.8.11"
  }
 },
 "nbformat": 4,
 "nbformat_minor": 5
}
